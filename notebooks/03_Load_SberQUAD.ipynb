{
 "cells": [
  {
   "cell_type": "markdown",
   "id": "a22924b6",
   "metadata": {},
   "source": [
    "# Imports"
   ]
  },
  {
   "cell_type": "code",
   "execution_count": 2,
   "id": "6ee43035",
   "metadata": {
    "ExecuteTime": {
     "end_time": "2021-08-03T16:07:23.215463Z",
     "start_time": "2021-08-03T16:07:21.849973Z"
    }
   },
   "outputs": [],
   "source": [
    "import json\n",
    "import tqdm\n",
    "import torch\n",
    "import torch.nn as nn\n",
    "from torch.utils.data import Dataset, DataLoader\n",
    "from typing import List, Mapping"
   ]
  },
  {
   "cell_type": "code",
   "execution_count": 3,
   "id": "e680278c",
   "metadata": {
    "ExecuteTime": {
     "end_time": "2021-08-03T16:07:23.227097Z",
     "start_time": "2021-08-03T16:07:23.220639Z"
    }
   },
   "outputs": [],
   "source": [
    "MODEL_NAME = \"cointegrated/rubert-tiny\""
   ]
  },
  {
   "cell_type": "code",
   "execution_count": 4,
   "id": "df5a07ce",
   "metadata": {
    "ExecuteTime": {
     "end_time": "2021-08-03T16:07:28.155029Z",
     "start_time": "2021-08-03T16:07:23.234987Z"
    }
   },
   "outputs": [],
   "source": [
    "from transformers import AutoTokenizer, AutoModel\n",
    "tokenizer = AutoTokenizer.from_pretrained(\"cointegrated/rubert-tiny\")"
   ]
  },
  {
   "cell_type": "code",
   "execution_count": 5,
   "id": "76e9654f",
   "metadata": {
    "ExecuteTime": {
     "end_time": "2021-08-03T16:07:28.165670Z",
     "start_time": "2021-08-03T16:07:28.160048Z"
    }
   },
   "outputs": [],
   "source": [
    "filename = \"../data/train-v1.1.json\""
   ]
  },
  {
   "cell_type": "code",
   "execution_count": 6,
   "id": "99bb4f55",
   "metadata": {
    "ExecuteTime": {
     "end_time": "2021-08-03T16:07:30.273244Z",
     "start_time": "2021-08-03T16:07:28.170289Z"
    }
   },
   "outputs": [],
   "source": [
    "with open(filename, \"r\") as fh:\n",
    "    source = json.load(fh)"
   ]
  },
  {
   "cell_type": "code",
   "execution_count": 7,
   "id": "d7d0f8b3",
   "metadata": {
    "ExecuteTime": {
     "end_time": "2021-08-03T16:07:30.302221Z",
     "start_time": "2021-08-03T16:07:30.277217Z"
    }
   },
   "outputs": [
    {
     "data": {
      "text/plain": [
       "{'context': 'В допетровское время искусство в России имело своим призванием служить исключительно религиозным целям, а так как православная церковь гнушается изваяниями человеческих фигур, то скульптура, в настоящем смысле слова, не могла в древней Руси не только развиваться, но и существовать. Правда, в некоторых местах, в особенности в бывших новгородских областях, пользовались уважением резные и раскрашенные изображения святых, но они были чужды всякого художественного значения и составляли изделия, возникшие под влиянием Запада. Собственно же на Руси проявления пластики ограничивались литьем небольших крестов, образов-складней, выбиванием окладов на образа и резьбою фигурных иконостасов. В числе плодов западно-европейской цивилизации Пётр Великий перенес в него и скульптуру, которая, однако, при этом государе и долго после него находилось здесь в руках приезжих иностранцев. Главным деятелем по части скульптуры в царствование Петра Великого и Анны Иоанновны был К. Б. Растрелли, отец знаменитого впоследствии архитектора, вызванный в Петербург для литья пушек. Об его манерном стиле свидетельствуют бронзовая статуя императрицы Анны, и монумент Петру Великому, стоящий перед Инженерным замком в Санкт-Петербурге.',\n",
       " 'id': '4095',\n",
       " 'qas': [{'id': '50619',\n",
       "   'question': 'Чем на Руси ограничивались проявления пластики?',\n",
       "   'answers': [{'answer_start': 583,\n",
       "     'text': 'литьем небольших крестов, образов-складней, выбиванием окладов на образа и резьбою фигурных иконостасов.'}]}]}"
      ]
     },
     "execution_count": 7,
     "metadata": {},
     "output_type": "execute_result"
    }
   ],
   "source": [
    "source[\"data\"][0][\"paragraphs\"][0]"
   ]
  },
  {
   "cell_type": "code",
   "execution_count": 8,
   "id": "ea094ad6",
   "metadata": {
    "ExecuteTime": {
     "end_time": "2021-08-03T16:07:30.317711Z",
     "start_time": "2021-08-03T16:07:30.307594Z"
    }
   },
   "outputs": [
    {
     "data": {
      "text/plain": [
       "'литьем небольших крестов, образов-складней, выбиванием окладов на образа и резьбою фигурных иконостасов. В числе плодов западно-европейской цивилизации Пётр Великий перенес в него и скульптуру, которая, однако, при этом государе и долго после него находилось здесь в руках приезжих иностранцев. Главным деятелем по части скульптуры в царствование Петра Великого и Анны Иоанновны был К. Б. Растрелли, отец знаменитого впоследствии архитектора, вызванный в Петербург для литья пушек. Об его манерном стиле свидетельствуют бронзовая статуя императрицы Анны, и монумент Петру Великому, стоящий перед Инженерным замком в Санкт-Петербурге.'"
      ]
     },
     "execution_count": 8,
     "metadata": {},
     "output_type": "execute_result"
    }
   ],
   "source": [
    "source[\"data\"][0][\"paragraphs\"][0]['context'][583:]"
   ]
  },
  {
   "cell_type": "code",
   "execution_count": 9,
   "id": "87a6a26d",
   "metadata": {
    "ExecuteTime": {
     "end_time": "2021-08-03T16:07:30.337211Z",
     "start_time": "2021-08-03T16:07:30.325411Z"
    }
   },
   "outputs": [],
   "source": [
    "input_ids = tokenizer.encode(source[\"data\"][0][\"paragraphs\"][0]['context'])\n",
    "# tokenizer.convert_ids_to_tokens(input_ids)"
   ]
  },
  {
   "cell_type": "code",
   "execution_count": 10,
   "id": "b10a406b",
   "metadata": {
    "ExecuteTime": {
     "end_time": "2021-08-03T16:07:30.357599Z",
     "start_time": "2021-08-03T16:07:30.344031Z"
    }
   },
   "outputs": [
    {
     "data": {
      "text/plain": [
       "352"
      ]
     },
     "execution_count": 10,
     "metadata": {},
     "output_type": "execute_result"
    }
   ],
   "source": [
    "tokenizer(source[\"data\"][0][\"paragraphs\"][0]['context']).char_to_token(1200)"
   ]
  },
  {
   "cell_type": "code",
   "execution_count": 11,
   "id": "1da99a50",
   "metadata": {
    "ExecuteTime": {
     "end_time": "2021-08-03T16:07:30.370437Z",
     "start_time": "2021-08-03T16:07:30.362166Z"
    }
   },
   "outputs": [],
   "source": [
    "answer_ids = tokenizer.encode(source[\"data\"][0][\"paragraphs\"][0]['qas'][0]['answers'][0]['text'])"
   ]
  },
  {
   "cell_type": "code",
   "execution_count": 12,
   "id": "b4785a92",
   "metadata": {
    "ExecuteTime": {
     "end_time": "2021-08-03T16:07:30.388295Z",
     "start_time": "2021-08-03T16:07:30.376109Z"
    }
   },
   "outputs": [],
   "source": [
    "def find_sub_list(sl,l):\n",
    "    results=[]\n",
    "    sll=len(sl)\n",
    "    for ind in (i for i,e in enumerate(l) if e==sl[0]):\n",
    "        if l[ind:ind+sll]==sl:\n",
    "            results.append((ind,ind+sll-1))\n",
    "\n",
    "    return results"
   ]
  },
  {
   "cell_type": "code",
   "execution_count": 13,
   "id": "f5ce143e",
   "metadata": {
    "ExecuteTime": {
     "end_time": "2021-08-03T16:07:30.406484Z",
     "start_time": "2021-08-03T16:07:30.394014Z"
    }
   },
   "outputs": [
    {
     "data": {
      "text/plain": [
       "[(160, 199)]"
      ]
     },
     "execution_count": 13,
     "metadata": {},
     "output_type": "execute_result"
    }
   ],
   "source": [
    "find_sub_list(answer_ids[1:-1], input_ids)"
   ]
  },
  {
   "cell_type": "code",
   "execution_count": 14,
   "id": "ef3c13ba",
   "metadata": {
    "ExecuteTime": {
     "end_time": "2021-08-03T16:07:30.423542Z",
     "start_time": "2021-08-03T16:07:30.412274Z"
    }
   },
   "outputs": [
    {
     "data": {
      "text/plain": [
       "'литьем небольших крестов , образов - складней , выбиванием окладов на образа и резьбою фигурных иконостасов'"
      ]
     },
     "execution_count": 14,
     "metadata": {},
     "output_type": "execute_result"
    }
   ],
   "source": [
    "' '.join(tokenizer.convert_ids_to_tokens(input_ids[160: 199])).replace(' ##', '')"
   ]
  },
  {
   "cell_type": "markdown",
   "id": "f0d3e852",
   "metadata": {},
   "source": [
    "# Подготовка датасета"
   ]
  },
  {
   "cell_type": "code",
   "execution_count": 15,
   "id": "5fea55bb",
   "metadata": {
    "ExecuteTime": {
     "end_time": "2021-08-03T16:07:30.444026Z",
     "start_time": "2021-08-03T16:07:30.429327Z"
    }
   },
   "outputs": [
    {
     "data": {
      "text/plain": [
       "'литьем небольших крестов, образов-складней, выбиванием окладов на образа и резьбою фигурных иконостасов.'"
      ]
     },
     "execution_count": 15,
     "metadata": {},
     "output_type": "execute_result"
    }
   ],
   "source": [
    "source[\"data\"][0][\"paragraphs\"][0]['qas'][0]['answers'][0]['text']"
   ]
  },
  {
   "cell_type": "code",
   "execution_count": 16,
   "id": "e8980c68",
   "metadata": {
    "ExecuteTime": {
     "end_time": "2021-08-03T16:07:32.422616Z",
     "start_time": "2021-08-03T16:07:30.449420Z"
    }
   },
   "outputs": [],
   "source": [
    "with open(filename, \"r\") as fh:\n",
    "    source = json.load(fh)"
   ]
  },
  {
   "cell_type": "code",
   "execution_count": 17,
   "id": "ef3195a0",
   "metadata": {
    "ExecuteTime": {
     "end_time": "2021-08-03T16:07:32.435715Z",
     "start_time": "2021-08-03T16:07:32.426551Z"
    }
   },
   "outputs": [
    {
     "data": {
      "text/plain": [
       "3"
      ]
     },
     "execution_count": 17,
     "metadata": {},
     "output_type": "execute_result"
    }
   ],
   "source": [
    "tokenizer.convert_tokens_to_ids(\"[SEP]\")"
   ]
  },
  {
   "cell_type": "code",
   "execution_count": 18,
   "id": "df055417",
   "metadata": {
    "ExecuteTime": {
     "end_time": "2021-08-03T16:07:32.660732Z",
     "start_time": "2021-08-03T16:07:32.440498Z"
    }
   },
   "outputs": [],
   "source": [
    "train_dict = {\n",
    "    \"text\": [],\n",
    "    \"start\": [],\n",
    "    \"end\": []\n",
    "}\n",
    "\n",
    "for article in source[\"data\"]:\n",
    "    for para in article[\"paragraphs\"]:\n",
    "        for qa in para[\"qas\"]:\n",
    "            train_dict[\"text\"].append(para[\"context\"] + \"[SEP]\" + qa[\"question\"])\n",
    "            train_dict[\"start\"].append(qa[\"answers\"][0][\"answer_start\"])\n",
    "            train_dict[\"end\"].append(qa[\"answers\"][0][\"answer_start\"] + len(qa[\"answers\"][0][\"text\"]))\n",
    "            if len(qa[\"answers\"]) > 1:\n",
    "                print(\"here\")"
   ]
  },
  {
   "cell_type": "code",
   "execution_count": 19,
   "id": "30bba70d",
   "metadata": {
    "ExecuteTime": {
     "end_time": "2021-08-03T16:07:34.123557Z",
     "start_time": "2021-08-03T16:07:32.667161Z"
    }
   },
   "outputs": [],
   "source": [
    "import pandas as pd\n",
    "import matplotlib.pyplot as plt\n",
    "import seaborn as sns"
   ]
  },
  {
   "cell_type": "code",
   "execution_count": 20,
   "id": "550b15e5",
   "metadata": {
    "ExecuteTime": {
     "end_time": "2021-08-03T16:07:34.214976Z",
     "start_time": "2021-08-03T16:07:34.129426Z"
    }
   },
   "outputs": [],
   "source": [
    "df = pd.DataFrame(train_dict)"
   ]
  },
  {
   "cell_type": "code",
   "execution_count": 21,
   "id": "eb976e3a",
   "metadata": {
    "ExecuteTime": {
     "end_time": "2021-08-03T16:07:34.287119Z",
     "start_time": "2021-08-03T16:07:34.220916Z"
    }
   },
   "outputs": [],
   "source": [
    "df[\"text_len\"] = df[\"text\"].apply(lambda x: len(x))\n",
    "text_lens = df[\"text_len\"].value_counts()"
   ]
  },
  {
   "cell_type": "code",
   "execution_count": 22,
   "id": "c3a661af",
   "metadata": {
    "ExecuteTime": {
     "end_time": "2021-08-03T16:07:34.700183Z",
     "start_time": "2021-08-03T16:07:34.292319Z"
    }
   },
   "outputs": [
    {
     "data": {
      "text/plain": [
       "<AxesSubplot:>"
      ]
     },
     "execution_count": 22,
     "metadata": {},
     "output_type": "execute_result"
    },
    {
     "data": {
      "image/png": "[encoded data removed]",
      "text/plain": [
       "<Figure size 432x288 with 1 Axes>"
      ]
     },
     "metadata": {
      "needs_background": "light"
     },
     "output_type": "display_data"
    }
   ],
   "source": [
    "sns.histplot(x=text_lens.index, y=text_lens.values)"
   ]
  },
  {
   "cell_type": "code",
   "execution_count": 23,
   "id": "e492379d",
   "metadata": {
    "ExecuteTime": {
     "end_time": "2021-08-03T16:07:34.716656Z",
     "start_time": "2021-08-03T16:07:34.705174Z"
    }
   },
   "outputs": [
    {
     "data": {
      "text/plain": [
       "843"
      ]
     },
     "execution_count": 23,
     "metadata": {},
     "output_type": "execute_result"
    }
   ],
   "source": [
    "mask = text_lens.index > 1500\n",
    "text_lens[mask].sum()"
   ]
  },
  {
   "cell_type": "code",
   "execution_count": 24,
   "id": "d87a4155",
   "metadata": {
    "ExecuteTime": {
     "end_time": "2021-08-03T16:07:34.744873Z",
     "start_time": "2021-08-03T16:07:34.729239Z"
    }
   },
   "outputs": [],
   "source": [
    "df = df[df[\"text_len\"] < 1500]"
   ]
  },
  {
   "cell_type": "code",
   "execution_count": 25,
   "id": "0c9ba741",
   "metadata": {
    "ExecuteTime": {
     "end_time": "2021-08-03T16:07:34.761015Z",
     "start_time": "2021-08-03T16:07:34.751760Z"
    }
   },
   "outputs": [
    {
     "data": {
      "text/plain": [
       "(44485, 4)"
      ]
     },
     "execution_count": 25,
     "metadata": {},
     "output_type": "execute_result"
    }
   ],
   "source": [
    "df.shape"
   ]
  },
  {
   "cell_type": "code",
   "execution_count": 26,
   "id": "7f20acce",
   "metadata": {
    "ExecuteTime": {
     "end_time": "2021-08-03T16:07:34.799417Z",
     "start_time": "2021-08-03T16:07:34.767298Z"
    }
   },
   "outputs": [
    {
     "data": {
      "text/html": [
       "<div>\n",
       "<style scoped>\n",
       "    .dataframe tbody tr th:only-of-type {\n",
       "        vertical-align: middle;\n",
       "    }\n",
       "\n",
       "    .dataframe tbody tr th {\n",
       "        vertical-align: top;\n",
       "    }\n",
       "\n",
       "    .dataframe thead th {\n",
       "        text-align: right;\n",
       "    }\n",
       "</style>\n",
       "<table border=\"1\" class=\"dataframe\">\n",
       "  <thead>\n",
       "    <tr style=\"text-align: right;\">\n",
       "      <th></th>\n",
       "      <th>text</th>\n",
       "      <th>start</th>\n",
       "      <th>end</th>\n",
       "      <th>text_len</th>\n",
       "    </tr>\n",
       "  </thead>\n",
       "  <tbody>\n",
       "    <tr>\n",
       "      <th>0</th>\n",
       "      <td>В допетровское время искусство в России имело ...</td>\n",
       "      <td>583</td>\n",
       "      <td>687</td>\n",
       "      <td>1268</td>\n",
       "    </tr>\n",
       "    <tr>\n",
       "      <th>1</th>\n",
       "      <td>По данным рейтинга Top 100 самых филиальных ба...</td>\n",
       "      <td>115</td>\n",
       "      <td>122</td>\n",
       "      <td>979</td>\n",
       "    </tr>\n",
       "    <tr>\n",
       "      <th>2</th>\n",
       "      <td>Смарт-стекло — современный собирательный терми...</td>\n",
       "      <td>205</td>\n",
       "      <td>215</td>\n",
       "      <td>812</td>\n",
       "    </tr>\n",
       "    <tr>\n",
       "      <th>3</th>\n",
       "      <td>Во время интервенции в Россию Речи Посполитой ...</td>\n",
       "      <td>287</td>\n",
       "      <td>300</td>\n",
       "      <td>865</td>\n",
       "    </tr>\n",
       "    <tr>\n",
       "      <th>4</th>\n",
       "      <td>В начале 1823 года Грибоедов на время покинул ...</td>\n",
       "      <td>9</td>\n",
       "      <td>13</td>\n",
       "      <td>740</td>\n",
       "    </tr>\n",
       "  </tbody>\n",
       "</table>\n",
       "</div>"
      ],
      "text/plain": [
       "                                                text  start  end  text_len\n",
       "0  В допетровское время искусство в России имело ...    583  687      1268\n",
       "1  По данным рейтинга Top 100 самых филиальных ба...    115  122       979\n",
       "2  Смарт-стекло — современный собирательный терми...    205  215       812\n",
       "3  Во время интервенции в Россию Речи Посполитой ...    287  300       865\n",
       "4  В начале 1823 года Грибоедов на время покинул ...      9   13       740"
      ]
     },
     "execution_count": 26,
     "metadata": {},
     "output_type": "execute_result"
    }
   ],
   "source": [
    "df.head()"
   ]
  },
  {
   "cell_type": "code",
   "execution_count": 62,
   "id": "1bacd9e8",
   "metadata": {
    "ExecuteTime": {
     "end_time": "2021-08-03T16:11:18.791968Z",
     "start_time": "2021-08-03T16:11:18.723843Z"
    }
   },
   "outputs": [],
   "source": [
    "class TextClassificationDataset(Dataset):\n",
    "    \"\"\"\n",
    "    Wrapper around Torch Dataset to perform text classification\n",
    "    \"\"\"\n",
    "    def __init__(self,\n",
    "                 texts: List[str],\n",
    "                 start: List[int] = None,\n",
    "                 end: List[int] = None,\n",
    "                 label_dict: Mapping[str, int] = None,\n",
    "                 max_seq_length: int = 512,\n",
    "                 model_name: str = 'distilbert-base-uncased'):\n",
    "        \"\"\"\n",
    "        Args:\n",
    "            texts (List[str]): a list with texts to classify or to train the\n",
    "                classifier on\n",
    "            labels List[str]: a list with classification labels (optional)\n",
    "            label_dict (dict): a dictionary mapping class names to class ids,\n",
    "                to be passed to the validation data (optional)\n",
    "            max_seq_length (int): maximal sequence length in tokens,\n",
    "                texts will be stripped to this length\n",
    "            model_name (str): transformer model name, needed to perform\n",
    "                appropriate tokenization\n",
    "\n",
    "        \"\"\"\n",
    "\n",
    "        self.texts = texts\n",
    "        self.start = start\n",
    "        self.end = end\n",
    "        self.label_dict = label_dict\n",
    "        self.max_seq_length = max_seq_length\n",
    "\n",
    "#         if self.label_dict is None and labels is not None:\n",
    "#             # {'class1': 0, 'class2': 1, 'class3': 2, ...}\n",
    "#             # using this instead of `sklearn.preprocessing.LabelEncoder`\n",
    "#             # no easily handle unknown target values\n",
    "#             self.label_dict = dict(zip(sorted(set(labels)),\n",
    "#                                        range(len(set(labels)))))\n",
    "\n",
    "        self.tokenizer = AutoTokenizer.from_pretrained(model_name)\n",
    "        # suppresses tokenizer warnings\n",
    "#         logging.getLogger(\n",
    "#             \"transformers.tokenization_utils\").setLevel(logging.FATAL)\n",
    "\n",
    "        # special tokens for transformers\n",
    "        # in the simplest case a [CLS] token is added in the beginning\n",
    "        # and [SEP] token is added in the end of a piece of text\n",
    "        # [CLS] <indexes text tokens> [SEP] .. <[PAD]>\n",
    "        self.sep_vid = self.tokenizer.vocab[\"[SEP]\"]\n",
    "        self.cls_vid = self.tokenizer.vocab[\"[CLS]\"]\n",
    "        self.pad_vid = self.tokenizer.vocab[\"[PAD]\"]\n",
    "\n",
    "    def __len__(self):\n",
    "        \"\"\"\n",
    "        Returns:\n",
    "            int: length of the dataset\n",
    "        \"\"\"\n",
    "        return len(self.texts)\n",
    "\n",
    "    def __getitem__(self, index) -> Mapping[str, torch.Tensor]:\n",
    "        \"\"\"Gets element of the dataset\n",
    "\n",
    "        Args:\n",
    "            index (int): index of the element in the dataset\n",
    "        Returns:\n",
    "            Single element by index\n",
    "        \"\"\"\n",
    "\n",
    "        # encoding the text\n",
    "        x = self.texts[index]\n",
    "        x_encoded = self.tokenizer(\n",
    "            x,\n",
    "            add_special_tokens=True,\n",
    "            max_length=self.max_seq_length,\n",
    "            return_tensors=\"pt\",\n",
    "        )\n",
    "        input_ids = x_encoded[\"input_ids\"].squeeze(0)\n",
    "        # padding short texts\n",
    "        true_seq_length = input_ids.size(0)\n",
    "        pad_size = self.max_seq_length - true_seq_length\n",
    "        pad_ids = torch.Tensor([self.pad_vid] * pad_size).long()\n",
    "        x_tensor = torch.cat((input_ids, pad_ids))\n",
    "\n",
    "        # dealing with attention masks - there's a 1 for each input token and\n",
    "        # if the sequence is shorter that `max_seq_length` then the rest is\n",
    "        # padded with zeroes. Attention mask will be passed to the model in\n",
    "        # order to compute attention scores only with input data\n",
    "        # ignoring padding\n",
    "        mask = torch.ones_like(input_ids, dtype=torch.int8)\n",
    "        mask_pad = torch.zeros_like(pad_ids, dtype=torch.int8)\n",
    "        mask = torch.cat((mask, mask_pad))\n",
    "        start_token_idx = x_encoded.char_to_token(self.start[index])\n",
    "        end_token_idx = x_encoded.char_to_token(self.end[index]) if x_encoded.char_to_token(self.end[index]) is not None else x_encoded.char_to_token(self.end[index] + 1),\n",
    "#         start_ohe = torch.zeros(self.max_seq_length)\n",
    "#         start_ohe[start_token_idx] = 1\n",
    "#         end_ohe = torch.zeros(self.max_seq_length)\n",
    "#         end_ohe[end_token_idx] = 1\n",
    "        output_dict = {\n",
    "            \"features\": x_tensor,\n",
    "            \"attention_mask\": mask,\n",
    "            \"start_token\": start_token_idx,\n",
    "            \"end_token\": end_token_idx,           \n",
    "        }\n",
    "\n",
    "        # encoding target\n",
    "#         if self.labels is not None:\n",
    "#             y = self.labels[index]\n",
    "#             y_encoded = torch.Tensor(\n",
    "#                 [self.label_dict.get(y, -1)]\n",
    "#             ).long().squeeze(0)\n",
    "#             output_dict[\"targets\"] = y_encoded\n",
    "\n",
    "        return output_dict"
   ]
  },
  {
   "cell_type": "code",
   "execution_count": 63,
   "id": "8507b80f",
   "metadata": {
    "ExecuteTime": {
     "end_time": "2021-08-03T16:11:33.571965Z",
     "start_time": "2021-08-03T16:11:33.562905Z"
    }
   },
   "outputs": [],
   "source": [
    "MAX_SEQ_LENGTH = 512"
   ]
  },
  {
   "cell_type": "code",
   "execution_count": 64,
   "id": "71b8ec0e",
   "metadata": {
    "ExecuteTime": {
     "end_time": "2021-08-03T16:11:51.213757Z",
     "start_time": "2021-08-03T16:11:47.317202Z"
    }
   },
   "outputs": [],
   "source": [
    "train_dataset = TextClassificationDataset(\n",
    "    texts=df['text'].values.tolist(),\n",
    "    start=df['start'].values.tolist(),\n",
    "    end=df['end'].values.tolist(),\n",
    "    label_dict=None,\n",
    "    max_seq_length=MAX_SEQ_LENGTH,\n",
    "    model_name=MODEL_NAME\n",
    ")"
   ]
  },
  {
   "cell_type": "markdown",
   "id": "720194de",
   "metadata": {},
   "source": [
    "### Checks"
   ]
  },
  {
   "cell_type": "code",
   "execution_count": 65,
   "id": "f6d18ba6",
   "metadata": {
    "ExecuteTime": {
     "end_time": "2021-08-03T16:12:05.259966Z",
     "start_time": "2021-08-03T16:12:05.006379Z"
    }
   },
   "outputs": [
    {
     "name": "stderr",
     "output_type": "stream",
     "text": [
      "Truncation was not explicitly activated but `max_length` is provided a specific value, please use `truncation=True` to explicitly truncate examples to max length. Defaulting to 'longest_first' truncation strategy. If you encode pairs of sequences (GLUE-style) with the tokenizer you can select this strategy more precisely by providing a specific strategy to `truncation`.\n"
     ]
    }
   ],
   "source": [
    "sample = train_dataset.__getitem__(5)"
   ]
  },
  {
   "cell_type": "code",
   "execution_count": 66,
   "id": "4e165026",
   "metadata": {
    "ExecuteTime": {
     "end_time": "2021-08-03T16:12:18.978962Z",
     "start_time": "2021-08-03T16:12:18.963473Z"
    }
   },
   "outputs": [
    {
     "data": {
      "text/plain": [
       "(162, (167,))"
      ]
     },
     "execution_count": 66,
     "metadata": {},
     "output_type": "execute_result"
    }
   ],
   "source": [
    "sample[\"start_token\"], sample[\"end_token\"]"
   ]
  },
  {
   "cell_type": "code",
   "execution_count": 67,
   "id": "1bd3d3bf",
   "metadata": {
    "ExecuteTime": {
     "end_time": "2021-08-03T16:12:26.400821Z",
     "start_time": "2021-08-03T16:12:26.397578Z"
    }
   },
   "outputs": [],
   "source": [
    "# tokenizer.convert_ids_to_tokens(sample[\"features\"][sample[\"start_token\"]:sample[\"end_token\"]])"
   ]
  },
  {
   "cell_type": "code",
   "execution_count": 68,
   "id": "8bf0b343",
   "metadata": {
    "ExecuteTime": {
     "end_time": "2021-08-03T16:12:30.409715Z",
     "start_time": "2021-08-03T16:12:30.397787Z"
    }
   },
   "outputs": [
    {
     "data": {
      "text/plain": [
       "[{'answer_start': 535, 'text': 'Якоб Гримм'}]"
      ]
     },
     "execution_count": 68,
     "metadata": {},
     "output_type": "execute_result"
    }
   ],
   "source": [
    "source[\"data\"][0][\"paragraphs\"][5][\"qas\"][0][\"answers\"]"
   ]
  },
  {
   "cell_type": "markdown",
   "id": "b94a9acd",
   "metadata": {},
   "source": [
    "## Create dataloader"
   ]
  },
  {
   "cell_type": "code",
   "execution_count": 69,
   "id": "910640cb",
   "metadata": {
    "ExecuteTime": {
     "end_time": "2021-08-03T16:12:34.387003Z",
     "start_time": "2021-08-03T16:12:34.383532Z"
    }
   },
   "outputs": [],
   "source": [
    "BATCH_SIZE = 2"
   ]
  },
  {
   "cell_type": "code",
   "execution_count": 70,
   "id": "b2087232",
   "metadata": {
    "ExecuteTime": {
     "end_time": "2021-08-03T16:12:38.361795Z",
     "start_time": "2021-08-03T16:12:38.357821Z"
    }
   },
   "outputs": [],
   "source": [
    "train_dataloader = DataLoader(dataset=train_dataset,\n",
    "                        batch_size=BATCH_SIZE, \n",
    "                        shuffle=True)"
   ]
  },
  {
   "cell_type": "code",
   "execution_count": 71,
   "id": "41b2959d",
   "metadata": {
    "ExecuteTime": {
     "end_time": "2021-08-03T16:12:42.091237Z",
     "start_time": "2021-08-03T16:12:42.077605Z"
    }
   },
   "outputs": [],
   "source": [
    "mini_batch = next(iter(train_dataloader))"
   ]
  },
  {
   "cell_type": "markdown",
   "id": "9d3659df",
   "metadata": {},
   "source": [
    "# get_model"
   ]
  },
  {
   "cell_type": "code",
   "execution_count": 72,
   "id": "1d17df55",
   "metadata": {
    "ExecuteTime": {
     "end_time": "2021-08-03T16:12:47.243900Z",
     "start_time": "2021-08-03T16:12:45.880546Z"
    }
   },
   "outputs": [
    {
     "name": "stderr",
     "output_type": "stream",
     "text": [
      "Some weights of the model checkpoint at cointegrated/rubert-tiny were not used when initializing BertModel: ['cls.predictions.decoder.bias', 'cls.seq_relationship.bias', 'cls.predictions.transform.dense.bias', 'cls.predictions.bias', 'cls.predictions.transform.dense.weight', 'cls.predictions.transform.LayerNorm.bias', 'cls.seq_relationship.weight', 'cls.predictions.transform.LayerNorm.weight', 'cls.predictions.decoder.weight']\n",
      "- This IS expected if you are initializing BertModel from the checkpoint of a model trained on another task or with another architecture (e.g. initializing a BertForSequenceClassification model from a BertForPreTraining model).\n",
      "- This IS NOT expected if you are initializing BertModel from the checkpoint of a model that you expect to be exactly identical (initializing a BertForSequenceClassification model from a BertForSequenceClassification model).\n"
     ]
    }
   ],
   "source": [
    "model = AutoModel.from_pretrained(\"cointegrated/rubert-tiny\")"
   ]
  },
  {
   "cell_type": "code",
   "execution_count": 73,
   "id": "6f7d0234",
   "metadata": {
    "ExecuteTime": {
     "end_time": "2021-08-03T16:12:51.015729Z",
     "start_time": "2021-08-03T16:12:50.874012Z"
    }
   },
   "outputs": [
    {
     "data": {
      "text/plain": [
       "torch.Size([2, 512, 312])"
      ]
     },
     "execution_count": 73,
     "metadata": {},
     "output_type": "execute_result"
    }
   ],
   "source": [
    "model(mini_batch['features'])[0].shape"
   ]
  },
  {
   "cell_type": "code",
   "execution_count": 39,
   "id": "fb19df22",
   "metadata": {
    "ExecuteTime": {
     "end_time": "2021-08-03T16:07:41.006063Z",
     "start_time": "2021-08-03T16:07:40.403333Z"
    }
   },
   "outputs": [
    {
     "data": {
      "text/plain": [
       "torch.Size([2, 512, 312])"
      ]
     },
     "execution_count": 39,
     "metadata": {},
     "output_type": "execute_result"
    }
   ],
   "source": [
    "model(mini_batch['features']).last_hidden_state.shape"
   ]
  },
  {
   "cell_type": "code",
   "execution_count": 40,
   "id": "b95aa740",
   "metadata": {
    "ExecuteTime": {
     "end_time": "2021-08-03T16:07:42.817944Z",
     "start_time": "2021-08-03T16:07:41.014001Z"
    }
   },
   "outputs": [
    {
     "data": {
      "text/plain": [
       "tensor(True)"
      ]
     },
     "execution_count": 40,
     "metadata": {},
     "output_type": "execute_result"
    }
   ],
   "source": [
    "torch.all((model(mini_batch['features'])[0].eq(model(mini_batch['features']).last_hidden_state)))"
   ]
  },
  {
   "cell_type": "code",
   "execution_count": 41,
   "id": "4ff2e16a",
   "metadata": {
    "ExecuteTime": {
     "end_time": "2021-08-03T16:07:43.500455Z",
     "start_time": "2021-08-03T16:07:42.831949Z"
    }
   },
   "outputs": [],
   "source": [
    "output = model(mini_batch['features'], mini_batch['attention_mask']).last_hidden_state"
   ]
  },
  {
   "cell_type": "code",
   "execution_count": 42,
   "id": "b135f41b",
   "metadata": {
    "ExecuteTime": {
     "end_time": "2021-08-03T16:07:43.522196Z",
     "start_time": "2021-08-03T16:07:43.509729Z"
    }
   },
   "outputs": [],
   "source": [
    "linear = nn.Linear(312, 2)"
   ]
  },
  {
   "cell_type": "code",
   "execution_count": 43,
   "id": "8fae29d9",
   "metadata": {
    "ExecuteTime": {
     "end_time": "2021-08-03T16:07:43.557574Z",
     "start_time": "2021-08-03T16:07:43.533448Z"
    }
   },
   "outputs": [],
   "source": [
    "logits = linear(output)"
   ]
  },
  {
   "cell_type": "code",
   "execution_count": 44,
   "id": "a7e72d4f",
   "metadata": {
    "ExecuteTime": {
     "end_time": "2021-08-03T16:07:43.582874Z",
     "start_time": "2021-08-03T16:07:43.565381Z"
    }
   },
   "outputs": [],
   "source": [
    "start_logits, end_logits = logits.split(1, dim=-1)\n",
    "start_logits = start_logits.squeeze(-1).contiguous()\n",
    "end_logits = end_logits.squeeze(-1).contiguous()"
   ]
  },
  {
   "cell_type": "code",
   "execution_count": 45,
   "id": "870d6b5a",
   "metadata": {
    "ExecuteTime": {
     "end_time": "2021-08-03T16:07:43.624156Z",
     "start_time": "2021-08-03T16:07:43.591312Z"
    }
   },
   "outputs": [],
   "source": [
    "ignored_index = start_logits.size(1)"
   ]
  },
  {
   "cell_type": "code",
   "execution_count": 46,
   "id": "a0e6d2a8",
   "metadata": {
    "ExecuteTime": {
     "end_time": "2021-08-03T16:07:43.668365Z",
     "start_time": "2021-08-03T16:07:43.636364Z"
    }
   },
   "outputs": [],
   "source": [
    "# start_logits.clamp(0, 10)[0]"
   ]
  },
  {
   "cell_type": "code",
   "execution_count": 47,
   "id": "ffabc9c3",
   "metadata": {
    "ExecuteTime": {
     "end_time": "2021-08-03T16:07:43.695419Z",
     "start_time": "2021-08-03T16:07:43.674315Z"
    }
   },
   "outputs": [
    {
     "data": {
      "text/plain": [
       "(torch.Size([2, 512]), torch.Size([2, 512]))"
      ]
     },
     "execution_count": 47,
     "metadata": {},
     "output_type": "execute_result"
    }
   ],
   "source": [
    "start_logits.shape, end_logits.shape"
   ]
  },
  {
   "cell_type": "code",
   "execution_count": 48,
   "id": "44427f3d",
   "metadata": {
    "ExecuteTime": {
     "end_time": "2021-08-03T16:07:43.723966Z",
     "start_time": "2021-08-03T16:07:43.704326Z"
    }
   },
   "outputs": [
    {
     "data": {
      "text/plain": [
       "(torch.Size([2, 512]), torch.Size([2, 512]))"
      ]
     },
     "execution_count": 48,
     "metadata": {},
     "output_type": "execute_result"
    }
   ],
   "source": [
    "start_logits.shape, mini_batch[\"start_token\"].shape"
   ]
  },
  {
   "cell_type": "code",
   "execution_count": 49,
   "id": "6440890e",
   "metadata": {
    "ExecuteTime": {
     "end_time": "2021-08-03T16:07:43.741448Z",
     "start_time": "2021-08-03T16:07:43.733669Z"
    }
   },
   "outputs": [],
   "source": [
    "from torch.nn import CrossEntropyLoss"
   ]
  },
  {
   "cell_type": "code",
   "execution_count": 50,
   "id": "136315c3",
   "metadata": {
    "ExecuteTime": {
     "end_time": "2021-08-03T16:07:43.795982Z",
     "start_time": "2021-08-03T16:07:43.748125Z"
    }
   },
   "outputs": [],
   "source": [
    "criterion = CrossEntropyLoss(ignore_index=5)"
   ]
  },
  {
   "cell_type": "code",
   "execution_count": 51,
   "id": "5190caa8",
   "metadata": {
    "ExecuteTime": {
     "end_time": "2021-08-03T16:07:43.831060Z",
     "start_time": "2021-08-03T16:07:43.808493Z"
    }
   },
   "outputs": [
    {
     "data": {
      "text/plain": [
       "tensor([[-0.4696, -0.1763,  0.4592,  ...,  0.3961,  0.3349,  0.2292],\n",
       "        [-0.7602,  0.1154, -0.1377,  ...,  0.2073,  0.1359,  0.0869]],\n",
       "       grad_fn=<CopyBackwards>)"
      ]
     },
     "execution_count": 51,
     "metadata": {},
     "output_type": "execute_result"
    }
   ],
   "source": [
    "start_logits"
   ]
  },
  {
   "cell_type": "code",
   "execution_count": 52,
   "id": "b11a29fc",
   "metadata": {
    "ExecuteTime": {
     "end_time": "2021-08-03T16:07:43.848295Z",
     "start_time": "2021-08-03T16:07:43.837185Z"
    }
   },
   "outputs": [],
   "source": [
    "target = torch.tensor([5, 10])"
   ]
  },
  {
   "cell_type": "code",
   "execution_count": 53,
   "id": "ece96a0d",
   "metadata": {
    "ExecuteTime": {
     "end_time": "2021-08-03T16:07:43.877299Z",
     "start_time": "2021-08-03T16:07:43.854900Z"
    }
   },
   "outputs": [
    {
     "data": {
      "text/plain": [
       "tensor(5.8113, grad_fn=<NllLossBackward>)"
      ]
     },
     "execution_count": 53,
     "metadata": {},
     "output_type": "execute_result"
    }
   ],
   "source": [
    "criterion(start_logits, target)"
   ]
  },
  {
   "cell_type": "code",
   "execution_count": 54,
   "id": "2445884e",
   "metadata": {
    "ExecuteTime": {
     "end_time": "2021-08-03T16:07:43.908722Z",
     "start_time": "2021-08-03T16:07:43.883687Z"
    }
   },
   "outputs": [
    {
     "data": {
      "text/plain": [
       "tensor(174)"
      ]
     },
     "execution_count": 54,
     "metadata": {},
     "output_type": "execute_result"
    }
   ],
   "source": [
    "torch.nn.functional.softmax(start_logits[0], dim=-1).argmax()"
   ]
  },
  {
   "cell_type": "code",
   "execution_count": null,
   "id": "d0664539",
   "metadata": {
    "ExecuteTime": {
     "start_time": "2021-08-03T16:31:02.704Z"
    }
   },
   "outputs": [],
   "source": [
    "123"
   ]
  },
  {
   "cell_type": "markdown",
   "id": "54036ad2",
   "metadata": {},
   "source": [
    "## model class"
   ]
  },
  {
   "cell_type": "code",
   "execution_count": 77,
   "id": "47b06398",
   "metadata": {
    "ExecuteTime": {
     "end_time": "2021-08-03T16:13:11.120367Z",
     "start_time": "2021-08-03T16:13:11.115372Z"
    }
   },
   "outputs": [],
   "source": [
    "class BertForQuestionAnswering(nn.Module):\n",
    "    \n",
    "\n",
    "    def __init__(self):\n",
    "        super().__init__()\n",
    "        self.num_labels = 2\n",
    "\n",
    "        self.bert = AutoModel.from_pretrained(\"cointegrated/rubert-tiny\")#BertModel(config, add_pooling_layer=False)\n",
    "        self.qa_outputs = nn.Linear(312, self.num_labels)\n",
    "\n",
    "#         self.init_weights()\n",
    "\n",
    "    def forward(\n",
    "        self,\n",
    "        input_ids=None,\n",
    "        attention_mask=None,\n",
    "        start_positions=None,\n",
    "        end_positions=None,\n",
    "    ):\n",
    "\n",
    "\n",
    "        outputs = self.bert(input_ids, attention_mask)\n",
    "    \n",
    "        sequence_output = outputs.last_hidden_state\n",
    "        logits = self.qa_outputs(sequence_output)\n",
    "        start_logits, end_logits = logits.split(1, dim=-1)\n",
    "        start_logits = start_logits.squeeze(-1).contiguous()\n",
    "        end_logits = end_logits.squeeze(-1).contiguous()\n",
    "        \n",
    "        return start_logits, end_logits\n"
   ]
  },
  {
   "cell_type": "code",
   "execution_count": 78,
   "id": "4b80e596",
   "metadata": {
    "ExecuteTime": {
     "end_time": "2021-08-03T16:13:15.407111Z",
     "start_time": "2021-08-03T16:13:14.158120Z"
    }
   },
   "outputs": [
    {
     "name": "stderr",
     "output_type": "stream",
     "text": [
      "Some weights of the model checkpoint at cointegrated/rubert-tiny were not used when initializing BertModel: ['cls.predictions.decoder.bias', 'cls.seq_relationship.bias', 'cls.predictions.transform.dense.bias', 'cls.predictions.bias', 'cls.predictions.transform.dense.weight', 'cls.predictions.transform.LayerNorm.bias', 'cls.seq_relationship.weight', 'cls.predictions.transform.LayerNorm.weight', 'cls.predictions.decoder.weight']\n",
      "- This IS expected if you are initializing BertModel from the checkpoint of a model trained on another task or with another architecture (e.g. initializing a BertForSequenceClassification model from a BertForPreTraining model).\n",
      "- This IS NOT expected if you are initializing BertModel from the checkpoint of a model that you expect to be exactly identical (initializing a BertForSequenceClassification model from a BertForSequenceClassification model).\n"
     ]
    }
   ],
   "source": [
    "model_qa = BertForQuestionAnswering()"
   ]
  },
  {
   "cell_type": "code",
   "execution_count": 79,
   "id": "c4f4dc9d",
   "metadata": {
    "ExecuteTime": {
     "end_time": "2021-08-03T16:13:18.993959Z",
     "start_time": "2021-08-03T16:13:18.880475Z"
    }
   },
   "outputs": [],
   "source": [
    "out = model_qa(mini_batch['features'], mini_batch['attention_mask'])"
   ]
  },
  {
   "cell_type": "code",
   "execution_count": 3,
   "id": "79bfa1af",
   "metadata": {
    "ExecuteTime": {
     "end_time": "2021-08-03T16:31:31.317472Z",
     "start_time": "2021-08-03T16:31:31.314797Z"
    }
   },
   "outputs": [],
   "source": [
    "criterion = nn.CrossEntropyLoss()"
   ]
  },
  {
   "cell_type": "code",
   "execution_count": 82,
   "id": "669082ad",
   "metadata": {
    "ExecuteTime": {
     "end_time": "2021-08-03T16:14:07.825402Z",
     "start_time": "2021-08-03T16:14:07.820534Z"
    }
   },
   "outputs": [
    {
     "data": {
      "text/plain": [
       "tensor(6.7900, grad_fn=<NllLossBackward>)"
      ]
     },
     "execution_count": 82,
     "metadata": {},
     "output_type": "execute_result"
    }
   ],
   "source": [
    "criterion(out[0], mini_batch['start_token'])"
   ]
  },
  {
   "cell_type": "code",
   "execution_count": 87,
   "id": "f648b3f8",
   "metadata": {
    "ExecuteTime": {
     "end_time": "2021-08-03T16:14:52.437815Z",
     "start_time": "2021-08-03T16:14:52.432486Z"
    }
   },
   "outputs": [
    {
     "data": {
      "text/plain": [
       "tensor(6.1443, grad_fn=<NllLossBackward>)"
      ]
     },
     "execution_count": 87,
     "metadata": {},
     "output_type": "execute_result"
    }
   ],
   "source": [
    "criterion(out[1], mini_batch['end_token'][0])"
   ]
  },
  {
   "cell_type": "markdown",
   "id": "ff3f0b1d",
   "metadata": {
    "ExecuteTime": {
     "end_time": "2021-07-18T18:04:54.012337Z",
     "start_time": "2021-07-18T18:04:54.010241Z"
    }
   },
   "source": [
    "# end"
   ]
  },
  {
   "cell_type": "code",
   "execution_count": 57,
   "id": "d291cf5b",
   "metadata": {
    "ExecuteTime": {
     "end_time": "2021-08-01T10:46:44.727594Z",
     "start_time": "2021-08-01T10:46:44.713048Z"
    }
   },
   "outputs": [],
   "source": [
    "\n",
    "criterion = nn.CrossEntropyLoss()\n",
    "\n",
    "output = torch.randn(10, 120).float()\n",
    "target = torch.FloatTensor(10).uniform_(0, 120).long()\n",
    "\n",
    "loss = criterion(output, target)"
   ]
  },
  {
   "cell_type": "code",
   "execution_count": 58,
   "id": "33be8b53",
   "metadata": {
    "ExecuteTime": {
     "end_time": "2021-08-01T10:46:44.746569Z",
     "start_time": "2021-08-01T10:46:44.733152Z"
    }
   },
   "outputs": [
    {
     "data": {
      "text/plain": [
       "(torch.Size([10, 120]), torch.Size([10]))"
      ]
     },
     "execution_count": 58,
     "metadata": {},
     "output_type": "execute_result"
    }
   ],
   "source": [
    "output.shape, target.shape"
   ]
  },
  {
   "cell_type": "code",
   "execution_count": 59,
   "id": "1b858999",
   "metadata": {
    "ExecuteTime": {
     "end_time": "2021-08-01T10:46:44.772190Z",
     "start_time": "2021-08-01T10:46:44.753557Z"
    }
   },
   "outputs": [
    {
     "data": {
      "text/plain": [
       "tensor([[ 1.3253, -0.2134,  0.8089,  ...,  0.3965, -0.4740,  0.6075],\n",
       "        [ 0.7365,  1.2239,  1.5120,  ..., -0.6894, -1.1235, -1.2199],\n",
       "        [ 0.3554, -0.1627,  0.6680,  ..., -1.3083,  0.1721, -0.3332],\n",
       "        ...,\n",
       "        [ 1.3723, -1.2871,  0.0656,  ...,  0.5257,  1.5737,  0.9170],\n",
       "        [-0.2345,  0.7721, -0.1130,  ..., -0.6746, -2.7554,  0.7493],\n",
       "        [ 0.0654, -0.4041,  1.2042,  ...,  0.2530,  0.6490,  0.8605]])"
      ]
     },
     "execution_count": 59,
     "metadata": {},
     "output_type": "execute_result"
    }
   ],
   "source": [
    "output"
   ]
  },
  {
   "cell_type": "code",
   "execution_count": 60,
   "id": "99ceba12",
   "metadata": {
    "ExecuteTime": {
     "end_time": "2021-08-01T10:46:44.807696Z",
     "start_time": "2021-08-01T10:46:44.777512Z"
    }
   },
   "outputs": [
    {
     "data": {
      "text/plain": [
       "text        В допетровское время искусство в России имело ...\n",
       "start                                                     583\n",
       "end                                                       687\n",
       "text_len                                                 1268\n",
       "Name: 0, dtype: object"
      ]
     },
     "execution_count": 60,
     "metadata": {},
     "output_type": "execute_result"
    }
   ],
   "source": [
    "df.loc[0]"
   ]
  },
  {
   "cell_type": "code",
   "execution_count": 61,
   "id": "adef8469",
   "metadata": {
    "ExecuteTime": {
     "end_time": "2021-08-01T10:46:44.833759Z",
     "start_time": "2021-08-01T10:46:44.813580Z"
    }
   },
   "outputs": [
    {
     "name": "stderr",
     "output_type": "stream",
     "text": [
      "Truncation was not explicitly activated but `max_length` is provided a specific value, please use `truncation=True` to explicitly truncate examples to max length. Defaulting to 'longest_first' truncation strategy. If you encode pairs of sequences (GLUE-style) with the tokenizer you can select this strategy more precisely by providing a specific strategy to `truncation`.\n"
     ]
    }
   ],
   "source": [
    "x_encoded = tokenizer(\n",
    "    source[\"data\"][0][\"paragraphs\"][0]['context'],\n",
    "    add_special_tokens=True,\n",
    "    max_length=312,\n",
    "    return_tensors=\"pt\",\n",
    ")"
   ]
  },
  {
   "cell_type": "code",
   "execution_count": 62,
   "id": "2bd8bf7d",
   "metadata": {
    "ExecuteTime": {
     "end_time": "2021-08-01T10:46:44.851792Z",
     "start_time": "2021-08-01T10:46:44.838695Z"
    }
   },
   "outputs": [
    {
     "data": {
      "text/plain": [
       "160"
      ]
     },
     "execution_count": 62,
     "metadata": {},
     "output_type": "execute_result"
    }
   ],
   "source": [
    "x_encoded.char_to_token(584)"
   ]
  },
  {
   "cell_type": "code",
   "execution_count": 63,
   "id": "5a29f130",
   "metadata": {
    "ExecuteTime": {
     "end_time": "2021-08-01T10:46:44.868449Z",
     "start_time": "2021-08-01T10:46:44.858347Z"
    }
   },
   "outputs": [
    {
     "data": {
      "text/plain": [
       "torch.Size([1, 312])"
      ]
     },
     "execution_count": 63,
     "metadata": {},
     "output_type": "execute_result"
    }
   ],
   "source": [
    "x_encoded.input_ids.shape"
   ]
  },
  {
   "cell_type": "code",
   "execution_count": 64,
   "id": "b471f080",
   "metadata": {
    "ExecuteTime": {
     "end_time": "2021-08-01T10:46:44.882321Z",
     "start_time": "2021-08-01T10:46:44.873806Z"
    }
   },
   "outputs": [],
   "source": [
    "for p in model.parameters():\n",
    "    p.requires_grad = False"
   ]
  },
  {
   "cell_type": "code",
   "execution_count": null,
   "id": "8ec3186e",
   "metadata": {},
   "outputs": [],
   "source": []
  }
 ],
 "metadata": {
  "kernelspec": {
   "display_name": "Python 3",
   "language": "python",
   "name": "python3"
  },
  "language_info": {
   "codemirror_mode": {
    "name": "ipython",
    "version": 3
   },
   "file_extension": ".py",
   "mimetype": "text/x-python",
   "name": "python",
   "nbconvert_exporter": "python",
   "pygments_lexer": "ipython3",
   "version": "3.7.10"
  },
  "toc": {
   "base_numbering": 1,
   "nav_menu": {},
   "number_sections": true,
   "sideBar": true,
   "skip_h1_title": false,
   "title_cell": "Table of Contents",
   "title_sidebar": "Contents",
   "toc_cell": false,
   "toc_position": {
    "height": "calc(100% - 180px)",
    "left": "10px",
    "top": "150px",
    "width": "384px"
   },
   "toc_section_display": true,
   "toc_window_display": true
  },
  "varInspector": {
   "cols": {
    "lenName": 16,
    "lenType": 16,
    "lenVar": 40
   },
   "kernels_config": {
    "python": {
     "delete_cmd_postfix": "",
     "delete_cmd_prefix": "del ",
     "library": "var_list.py",
     "varRefreshCmd": "print(var_dic_list())"
    },
    "r": {
     "delete_cmd_postfix": ") ",
     "delete_cmd_prefix": "rm(",
     "library": "var_list.r",
     "varRefreshCmd": "cat(var_dic_list()) "
    }
   },
   "types_to_exclude": [
    "module",
    "function",
    "builtin_function_or_method",
    "instance",
    "_Feature"
   ],
   "window_display": false
  }
 },
 "nbformat": 4,
 "nbformat_minor": 5
}
